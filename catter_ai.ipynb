{
  "nbformat": 4,
  "nbformat_minor": 0,
  "metadata": {
    "colab": {
      "provenance": [],
      "authorship_tag": "ABX9TyPAxr/lfZDOLNuudPT4JDj/",
      "include_colab_link": true
    },
    "kernelspec": {
      "name": "python3",
      "display_name": "Python 3"
    },
    "language_info": {
      "name": "python"
    }
  },
  "cells": [
    {
      "cell_type": "markdown",
      "metadata": {
        "id": "view-in-github",
        "colab_type": "text"
      },
      "source": [
        "<a href=\"https://colab.research.google.com/github/mueller-florian-rh/menu-extraction/blob/main/catter_ai.ipynb\" target=\"_parent\"><img src=\"https://colab.research.google.com/assets/colab-badge.svg\" alt=\"Open In Colab\"/></a>"
      ]
    },
    {
      "cell_type": "code",
      "execution_count": 8,
      "metadata": {
        "colab": {
          "base_uri": "https://localhost:8080/"
        },
        "id": "S6iOKPy1Ep1k",
        "outputId": "53eb2a4e-29c3-4f2e-8f8b-593487237dfa"
      },
      "outputs": [
        {
          "name": "stdout",
          "output_type": "stream",
          "text": [
            "Enter URL:\n",
            "https://www.kaiserwetter-catering.de/wp-content/uploads/KAISERWETTER_Cateringkarte.pdf\n"
          ]
        }
      ],
      "source": [
        "import getpass\n",
        "import os\n",
        "import uuid\n",
        "import pymupdf\n",
        "import requests\n",
        "import csv\n",
        "from langchain_openai import ChatOpenAI\n",
        "from langchain.prompts import PromptTemplate\n",
        "\n",
        "llm = ChatOpenAI(\n",
        "    model=\"gpt-4.1-mini\",\n",
        "    temperature=0,\n",
        "    max_tokens=None,\n",
        "    timeout=None,\n",
        "    max_retries=2,\n",
        "    # api_key=\"\",  # if you prefer to pass api key in directly instaed of using env vars\n",
        "    # base_url=\"...\",\n",
        "    # organization=\"...\",\n",
        "    # other params...\n",
        ")\n",
        "prompt = PromptTemplate(\n",
        "    template=open(\"prompt_speisekarten_extraction.txt\", encoding=\"utf-8\").read(),\n",
        "    input_variables=[\"full_text\"]\n",
        ")\n",
        "\n",
        "chain = prompt | llm\n",
        "\n",
        "print(\"Enter URL:\")\n",
        "url = input()\n",
        "tmp_pdf = f\"temp_{uuid.uuid4().hex}.pdf\"\n",
        "r = requests.get(url)\n",
        "with open(tmp_pdf, \"wb\") as f:\n",
        "  f.write(r.content)\n",
        "\n",
        "doc = pymupdf.open(tmp_pdf)\n",
        "full_text = \"\\n\".join([page.get_text() for page in doc])\n",
        "\n",
        "result = chain.invoke({\"pdf_text\" : full_text})\n",
        "\n",
        "tmp_csv = f\"output_{uuid.uuid4().hex}.csv\"\n",
        "with open(tmp_csv, \"w\", encoding=\"utf-8\", newline=\"\") as f:\n",
        "  writer = csv.writer(f, delimiter=\";\")\n",
        "  writer.writerow([\"Kategorie\", \"Speise\", \"Beschreibung\", \"Confidence\"])\n",
        "  for line in result.content.strip().split(\"\\n\"):\n",
        "    parts = line.split(\";\")\n",
        "    if len(parts) == 4:\n",
        "      writer.writerow(parts)\n",
        "\n",
        "os.remove(tmp_pdf)"
      ]
    },
    {
      "cell_type": "code",
      "source": [
        "!pip install pymupdf uuid"
      ],
      "metadata": {
        "colab": {
          "base_uri": "https://localhost:8080/",
          "height": 357
        },
        "id": "m3Fqyh2WE5rF",
        "outputId": "55d62018-8210-4921-b1b4-8ef4316e3a9d"
      },
      "execution_count": 10,
      "outputs": [
        {
          "output_type": "stream",
          "name": "stdout",
          "text": [
            "Collecting pymupdf\n",
            "  Downloading pymupdf-1.26.3-cp39-abi3-manylinux_2_28_x86_64.whl.metadata (3.4 kB)\n",
            "Collecting uuid\n",
            "  Downloading uuid-1.30.tar.gz (5.8 kB)\n",
            "  Preparing metadata (setup.py) ... \u001b[?25l\u001b[?25hdone\n",
            "Downloading pymupdf-1.26.3-cp39-abi3-manylinux_2_28_x86_64.whl (24.1 MB)\n",
            "\u001b[2K   \u001b[90m━━━━━━━━━━━━━━━━━━━━━━━━━━━━━━━━━━━━━━━━\u001b[0m \u001b[32m24.1/24.1 MB\u001b[0m \u001b[31m77.8 MB/s\u001b[0m eta \u001b[36m0:00:00\u001b[0m\n",
            "\u001b[?25hBuilding wheels for collected packages: uuid\n",
            "  Building wheel for uuid (setup.py) ... \u001b[?25l\u001b[?25hdone\n",
            "  Created wheel for uuid: filename=uuid-1.30-py3-none-any.whl size=6477 sha256=8a533a73784bd7eb68940261e423a37112aff241323c215b57b06feb550eea5d\n",
            "  Stored in directory: /root/.cache/pip/wheels/e0/01/df/bd20df409bd81f8b99e6cd343c5f49731dc0a20eefefdafae0\n",
            "Successfully built uuid\n",
            "Installing collected packages: uuid, pymupdf\n",
            "Successfully installed pymupdf-1.26.3 uuid-1.30\n"
          ]
        },
        {
          "output_type": "display_data",
          "data": {
            "application/vnd.colab-display-data+json": {
              "pip_warning": {
                "packages": [
                  "uuid"
                ]
              },
              "id": "dd52e04a0e344e66b3559cac5dc32ebe"
            }
          },
          "metadata": {}
        }
      ]
    }
  ]
}