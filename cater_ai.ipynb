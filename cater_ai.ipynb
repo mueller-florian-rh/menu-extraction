{
  "nbformat": 4,
  "nbformat_minor": 0,
  "metadata": {
    "colab": {
      "provenance": [],
      "authorship_tag": "ABX9TyP+K8Q8Shl7+g5Kq0Rmjwrp",
      "include_colab_link": true
    },
    "kernelspec": {
      "name": "python3",
      "display_name": "Python 3"
    },
    "language_info": {
      "name": "python"
    }
  },
  "cells": [
    {
      "cell_type": "markdown",
      "metadata": {
        "id": "view-in-github",
        "colab_type": "text"
      },
      "source": [
        "<a href=\"https://colab.research.google.com/github/mueller-florian-rh/menu-extraction/blob/main/cater_ai.ipynb\" target=\"_parent\"><img src=\"https://colab.research.google.com/assets/colab-badge.svg\" alt=\"Open In Colab\"/></a>"
      ]
    },
    {
      "cell_type": "code",
      "source": [
        "!pip install pymupdf langchain_openai langchain requests"
      ],
      "metadata": {
        "id": "m3Fqyh2WE5rF"
      },
      "execution_count": null,
      "outputs": []
    },
    {
      "cell_type": "code",
      "execution_count": null,
      "metadata": {
        "id": "S6iOKPy1Ep1k"
      },
      "outputs": [],
      "source": [
        "import csv\n",
        "import getpass\n",
        "import os\n",
        "import pymupdf\n",
        "import requests\n",
        "from langchain_openai import ChatOpenAI\n",
        "from langchain.prompts import PromptTemplate\n",
        "from urllib.parse import urlparse\n",
        "\n",
        "if not os.environ.get(\"OPENAI_API_KEY\"):\n",
        "    os.environ[\"OPENAI_API_KEY\"] = getpass.getpass(\"Enter your OpenAI API key: \")\n",
        "\n",
        "llm = ChatOpenAI(\n",
        "    model=\"gpt-4.1-mini\",\n",
        "    temperature=0,\n",
        "    max_tokens=None,\n",
        "    timeout=None,\n",
        "    max_retries=2,\n",
        ")\n",
        "prompt_request = requests.get(\"https://raw.githubusercontent.com/mueller-florian-rh/menu-extraction/refs/heads/main/prompt_speisekarten_extraction.txt\")\n",
        "with open(\"prompt_speisekarten_extraction.txt\", \"w\", encoding=\"utf-8\") as f:\n",
        "  f.write(prompt_request.text)\n",
        "  f.close()\n",
        "prompt = PromptTemplate(\n",
        "    template=open(\"prompt_speisekarten_extraction.txt\", encoding=\"utf-8\").read(),\n",
        "    input_variables=[\"full_text\"]\n",
        ")\n",
        "\n",
        "chain = prompt | llm\n",
        "\n",
        "print(\"Enter URL:\")\n",
        "url = input()\n",
        "path = urlparse(url).path\n",
        "filename = os.path.basename(path)\n",
        "name_without_ext = os.path.splitext(filename)[0]\n",
        "tmp_pdf = f\"temp_{name_without_ext}.pdf\"\n",
        "r = requests.get(url)\n",
        "with open(tmp_pdf, \"wb\") as f:\n",
        "  f.write(r.content)\n",
        "  f.close()\n",
        "\n",
        "doc = pymupdf.open(tmp_pdf)\n",
        "full_text = \"\\n\".join([page.get_text() for page in doc])\n",
        "\n",
        "result = chain.invoke({\"pdf_text\" : full_text})\n",
        "\n",
        "tmp_csv = f\"output_{name_without_ext}.csv\"\n",
        "with open(tmp_csv, \"w\", encoding=\"utf-8\", newline=\"\") as f:\n",
        "  writer = csv.writer(f, delimiter=\";\")\n",
        "  writer.writerow([\"Kategorie\", \"Speise\", \"Beschreibung\", \"Confidence\"])\n",
        "  for line in result.content.strip().split(\"\\n\"):\n",
        "    parts = line.split(\";\")\n",
        "    if len(parts) == 4:\n",
        "      writer.writerow(parts)\n",
        "\n",
        "os.remove(tmp_pdf)"
      ]
    }
  ]
}